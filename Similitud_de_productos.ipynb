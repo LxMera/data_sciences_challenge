{
  "nbformat": 4,
  "nbformat_minor": 0,
  "metadata": {
    "colab": {
      "provenance": []
    },
    "kernelspec": {
      "name": "python3",
      "display_name": "Python 3"
    },
    "language_info": {
      "name": "python"
    }
  },
  "cells": [
    {
      "cell_type": "code",
      "execution_count": 1,
      "metadata": {
        "id": "Zz5iFGpJaeBp"
      },
      "outputs": [],
      "source": [
        "import pandas as pd\n",
        "import numpy as np\n",
        "import time\n",
        "import re\n",
        "from collections import Counter\n",
        "import matplotlib.pyplot as plt\n",
        "import seaborn as sns\n",
        "from sklearn.feature_extraction.text import TfidfVectorizer\n",
        "from sklearn.metrics.pairwise import cosine_similarity\n",
        "\n",
        "from sklearn.decomposition import TruncatedSVD\n",
        "import time\n",
        "import numpy as np\n",
        "import pandas as pd\n",
        "import matplotlib.pyplot as plt"
      ]
    },
    {
      "cell_type": "markdown",
      "source": [
        "### Cargar datos"
      ],
      "metadata": {
        "id": "R7FmkBrPa7VI"
      }
    },
    {
      "cell_type": "code",
      "source": [
        "print(\"=\" * 80)\n",
        "print(\"CARGA DE DATOS\")\n",
        "print(\"=\" * 80)\n",
        "\n",
        "df_train = pd.read_csv('data/items_titles.csv')\n",
        "df_test = pd.read_csv('data/items_titles_test.csv')\n",
        "\n",
        "print(f\"\\nDataset de entrenamiento: {df_train.shape[0]:,} productos\")\n",
        "print(f\"Dataset de test: {df_test.shape[0]:,} productos\")\n",
        "\n",
        "print(\"\\nPrimeras filas del dataset de entrenamiento:\")\n",
        "display(df_train.head())\n",
        "\n",
        "print(\"\\nPrimeras filas del dataset de test:\")\n",
        "display(df_test.head())"
      ],
      "metadata": {
        "colab": {
          "base_uri": "https://localhost:8080/",
          "height": 569
        },
        "id": "GXG4_MQxa5vf",
        "outputId": "6b4dbe62-5c5d-4c19-a99b-859f88cd3959"
      },
      "execution_count": 2,
      "outputs": [
        {
          "output_type": "stream",
          "name": "stdout",
          "text": [
            "================================================================================\n",
            "CARGA DE DATOS\n",
            "================================================================================\n",
            "\n",
            "Dataset de entrenamiento: 30,000 productos\n",
            "Dataset de test: 10,000 productos\n",
            "\n",
            "Primeras filas del dataset de entrenamiento:\n"
          ]
        },
        {
          "output_type": "display_data",
          "data": {
            "text/plain": [
              "                                      ITE_ITEM_TITLE\n",
              "0  Tênis Ascension Posh Masculino - Preto E Verme...\n",
              "1  Tenis Para Caminhada Super Levinho Spider Corr...\n",
              "2  Tênis Feminino Le Parc Hocks Black/ice Origina...\n",
              "3  Tênis Olympikus Esportivo Academia Nova Tendên...\n",
              "4  Inteligente Led Bicicleta Tauda Luz Usb Bicicl..."
            ],
            "text/html": [
              "\n",
              "  <div id=\"df-01e9929a-cd0d-4705-96c4-b88fe6c2ea88\" class=\"colab-df-container\">\n",
              "    <div>\n",
              "<style scoped>\n",
              "    .dataframe tbody tr th:only-of-type {\n",
              "        vertical-align: middle;\n",
              "    }\n",
              "\n",
              "    .dataframe tbody tr th {\n",
              "        vertical-align: top;\n",
              "    }\n",
              "\n",
              "    .dataframe thead th {\n",
              "        text-align: right;\n",
              "    }\n",
              "</style>\n",
              "<table border=\"1\" class=\"dataframe\">\n",
              "  <thead>\n",
              "    <tr style=\"text-align: right;\">\n",
              "      <th></th>\n",
              "      <th>ITE_ITEM_TITLE</th>\n",
              "    </tr>\n",
              "  </thead>\n",
              "  <tbody>\n",
              "    <tr>\n",
              "      <th>0</th>\n",
              "      <td>Tênis Ascension Posh Masculino - Preto E Verme...</td>\n",
              "    </tr>\n",
              "    <tr>\n",
              "      <th>1</th>\n",
              "      <td>Tenis Para Caminhada Super Levinho Spider Corr...</td>\n",
              "    </tr>\n",
              "    <tr>\n",
              "      <th>2</th>\n",
              "      <td>Tênis Feminino Le Parc Hocks Black/ice Origina...</td>\n",
              "    </tr>\n",
              "    <tr>\n",
              "      <th>3</th>\n",
              "      <td>Tênis Olympikus Esportivo Academia Nova Tendên...</td>\n",
              "    </tr>\n",
              "    <tr>\n",
              "      <th>4</th>\n",
              "      <td>Inteligente Led Bicicleta Tauda Luz Usb Bicicl...</td>\n",
              "    </tr>\n",
              "  </tbody>\n",
              "</table>\n",
              "</div>\n",
              "    <div class=\"colab-df-buttons\">\n",
              "\n",
              "  <div class=\"colab-df-container\">\n",
              "    <button class=\"colab-df-convert\" onclick=\"convertToInteractive('df-01e9929a-cd0d-4705-96c4-b88fe6c2ea88')\"\n",
              "            title=\"Convert this dataframe to an interactive table.\"\n",
              "            style=\"display:none;\">\n",
              "\n",
              "  <svg xmlns=\"http://www.w3.org/2000/svg\" height=\"24px\" viewBox=\"0 -960 960 960\">\n",
              "    <path d=\"M120-120v-720h720v720H120Zm60-500h600v-160H180v160Zm220 220h160v-160H400v160Zm0 220h160v-160H400v160ZM180-400h160v-160H180v160Zm440 0h160v-160H620v160ZM180-180h160v-160H180v160Zm440 0h160v-160H620v160Z\"/>\n",
              "  </svg>\n",
              "    </button>\n",
              "\n",
              "  <style>\n",
              "    .colab-df-container {\n",
              "      display:flex;\n",
              "      gap: 12px;\n",
              "    }\n",
              "\n",
              "    .colab-df-convert {\n",
              "      background-color: #E8F0FE;\n",
              "      border: none;\n",
              "      border-radius: 50%;\n",
              "      cursor: pointer;\n",
              "      display: none;\n",
              "      fill: #1967D2;\n",
              "      height: 32px;\n",
              "      padding: 0 0 0 0;\n",
              "      width: 32px;\n",
              "    }\n",
              "\n",
              "    .colab-df-convert:hover {\n",
              "      background-color: #E2EBFA;\n",
              "      box-shadow: 0px 1px 2px rgba(60, 64, 67, 0.3), 0px 1px 3px 1px rgba(60, 64, 67, 0.15);\n",
              "      fill: #174EA6;\n",
              "    }\n",
              "\n",
              "    .colab-df-buttons div {\n",
              "      margin-bottom: 4px;\n",
              "    }\n",
              "\n",
              "    [theme=dark] .colab-df-convert {\n",
              "      background-color: #3B4455;\n",
              "      fill: #D2E3FC;\n",
              "    }\n",
              "\n",
              "    [theme=dark] .colab-df-convert:hover {\n",
              "      background-color: #434B5C;\n",
              "      box-shadow: 0px 1px 3px 1px rgba(0, 0, 0, 0.15);\n",
              "      filter: drop-shadow(0px 1px 2px rgba(0, 0, 0, 0.3));\n",
              "      fill: #FFFFFF;\n",
              "    }\n",
              "  </style>\n",
              "\n",
              "    <script>\n",
              "      const buttonEl =\n",
              "        document.querySelector('#df-01e9929a-cd0d-4705-96c4-b88fe6c2ea88 button.colab-df-convert');\n",
              "      buttonEl.style.display =\n",
              "        google.colab.kernel.accessAllowed ? 'block' : 'none';\n",
              "\n",
              "      async function convertToInteractive(key) {\n",
              "        const element = document.querySelector('#df-01e9929a-cd0d-4705-96c4-b88fe6c2ea88');\n",
              "        const dataTable =\n",
              "          await google.colab.kernel.invokeFunction('convertToInteractive',\n",
              "                                                    [key], {});\n",
              "        if (!dataTable) return;\n",
              "\n",
              "        const docLinkHtml = 'Like what you see? Visit the ' +\n",
              "          '<a target=\"_blank\" href=https://colab.research.google.com/notebooks/data_table.ipynb>data table notebook</a>'\n",
              "          + ' to learn more about interactive tables.';\n",
              "        element.innerHTML = '';\n",
              "        dataTable['output_type'] = 'display_data';\n",
              "        await google.colab.output.renderOutput(dataTable, element);\n",
              "        const docLink = document.createElement('div');\n",
              "        docLink.innerHTML = docLinkHtml;\n",
              "        element.appendChild(docLink);\n",
              "      }\n",
              "    </script>\n",
              "  </div>\n",
              "\n",
              "\n",
              "    <div id=\"df-0099ed08-202b-476e-81f4-795949f3046b\">\n",
              "      <button class=\"colab-df-quickchart\" onclick=\"quickchart('df-0099ed08-202b-476e-81f4-795949f3046b')\"\n",
              "                title=\"Suggest charts\"\n",
              "                style=\"display:none;\">\n",
              "\n",
              "<svg xmlns=\"http://www.w3.org/2000/svg\" height=\"24px\"viewBox=\"0 0 24 24\"\n",
              "     width=\"24px\">\n",
              "    <g>\n",
              "        <path d=\"M19 3H5c-1.1 0-2 .9-2 2v14c0 1.1.9 2 2 2h14c1.1 0 2-.9 2-2V5c0-1.1-.9-2-2-2zM9 17H7v-7h2v7zm4 0h-2V7h2v10zm4 0h-2v-4h2v4z\"/>\n",
              "    </g>\n",
              "</svg>\n",
              "      </button>\n",
              "\n",
              "<style>\n",
              "  .colab-df-quickchart {\n",
              "      --bg-color: #E8F0FE;\n",
              "      --fill-color: #1967D2;\n",
              "      --hover-bg-color: #E2EBFA;\n",
              "      --hover-fill-color: #174EA6;\n",
              "      --disabled-fill-color: #AAA;\n",
              "      --disabled-bg-color: #DDD;\n",
              "  }\n",
              "\n",
              "  [theme=dark] .colab-df-quickchart {\n",
              "      --bg-color: #3B4455;\n",
              "      --fill-color: #D2E3FC;\n",
              "      --hover-bg-color: #434B5C;\n",
              "      --hover-fill-color: #FFFFFF;\n",
              "      --disabled-bg-color: #3B4455;\n",
              "      --disabled-fill-color: #666;\n",
              "  }\n",
              "\n",
              "  .colab-df-quickchart {\n",
              "    background-color: var(--bg-color);\n",
              "    border: none;\n",
              "    border-radius: 50%;\n",
              "    cursor: pointer;\n",
              "    display: none;\n",
              "    fill: var(--fill-color);\n",
              "    height: 32px;\n",
              "    padding: 0;\n",
              "    width: 32px;\n",
              "  }\n",
              "\n",
              "  .colab-df-quickchart:hover {\n",
              "    background-color: var(--hover-bg-color);\n",
              "    box-shadow: 0 1px 2px rgba(60, 64, 67, 0.3), 0 1px 3px 1px rgba(60, 64, 67, 0.15);\n",
              "    fill: var(--button-hover-fill-color);\n",
              "  }\n",
              "\n",
              "  .colab-df-quickchart-complete:disabled,\n",
              "  .colab-df-quickchart-complete:disabled:hover {\n",
              "    background-color: var(--disabled-bg-color);\n",
              "    fill: var(--disabled-fill-color);\n",
              "    box-shadow: none;\n",
              "  }\n",
              "\n",
              "  .colab-df-spinner {\n",
              "    border: 2px solid var(--fill-color);\n",
              "    border-color: transparent;\n",
              "    border-bottom-color: var(--fill-color);\n",
              "    animation:\n",
              "      spin 1s steps(1) infinite;\n",
              "  }\n",
              "\n",
              "  @keyframes spin {\n",
              "    0% {\n",
              "      border-color: transparent;\n",
              "      border-bottom-color: var(--fill-color);\n",
              "      border-left-color: var(--fill-color);\n",
              "    }\n",
              "    20% {\n",
              "      border-color: transparent;\n",
              "      border-left-color: var(--fill-color);\n",
              "      border-top-color: var(--fill-color);\n",
              "    }\n",
              "    30% {\n",
              "      border-color: transparent;\n",
              "      border-left-color: var(--fill-color);\n",
              "      border-top-color: var(--fill-color);\n",
              "      border-right-color: var(--fill-color);\n",
              "    }\n",
              "    40% {\n",
              "      border-color: transparent;\n",
              "      border-right-color: var(--fill-color);\n",
              "      border-top-color: var(--fill-color);\n",
              "    }\n",
              "    60% {\n",
              "      border-color: transparent;\n",
              "      border-right-color: var(--fill-color);\n",
              "    }\n",
              "    80% {\n",
              "      border-color: transparent;\n",
              "      border-right-color: var(--fill-color);\n",
              "      border-bottom-color: var(--fill-color);\n",
              "    }\n",
              "    90% {\n",
              "      border-color: transparent;\n",
              "      border-bottom-color: var(--fill-color);\n",
              "    }\n",
              "  }\n",
              "</style>\n",
              "\n",
              "      <script>\n",
              "        async function quickchart(key) {\n",
              "          const quickchartButtonEl =\n",
              "            document.querySelector('#' + key + ' button');\n",
              "          quickchartButtonEl.disabled = true;  // To prevent multiple clicks.\n",
              "          quickchartButtonEl.classList.add('colab-df-spinner');\n",
              "          try {\n",
              "            const charts = await google.colab.kernel.invokeFunction(\n",
              "                'suggestCharts', [key], {});\n",
              "          } catch (error) {\n",
              "            console.error('Error during call to suggestCharts:', error);\n",
              "          }\n",
              "          quickchartButtonEl.classList.remove('colab-df-spinner');\n",
              "          quickchartButtonEl.classList.add('colab-df-quickchart-complete');\n",
              "        }\n",
              "        (() => {\n",
              "          let quickchartButtonEl =\n",
              "            document.querySelector('#df-0099ed08-202b-476e-81f4-795949f3046b button');\n",
              "          quickchartButtonEl.style.display =\n",
              "            google.colab.kernel.accessAllowed ? 'block' : 'none';\n",
              "        })();\n",
              "      </script>\n",
              "    </div>\n",
              "\n",
              "    </div>\n",
              "  </div>\n"
            ],
            "application/vnd.google.colaboratory.intrinsic+json": {
              "type": "dataframe",
              "summary": "{\n  \"name\": \"display(df_test\",\n  \"rows\": 5,\n  \"fields\": [\n    {\n      \"column\": \"ITE_ITEM_TITLE\",\n      \"properties\": {\n        \"dtype\": \"string\",\n        \"num_unique_values\": 5,\n        \"samples\": [\n          \"Tenis Para Caminhada Super Levinho Spider Corrida \",\n          \"Inteligente Led Bicicleta Tauda Luz Usb Bicicleta Carreg\\u00e1ve\",\n          \"T\\u00eanis Feminino Le Parc Hocks Black/ice Original Envio J\\u00e1\"\n        ],\n        \"semantic_type\": \"\",\n        \"description\": \"\"\n      }\n    }\n  ]\n}"
            }
          },
          "metadata": {}
        },
        {
          "output_type": "stream",
          "name": "stdout",
          "text": [
            "\n",
            "Primeras filas del dataset de test:\n"
          ]
        },
        {
          "output_type": "display_data",
          "data": {
            "text/plain": [
              "                                      ITE_ITEM_TITLE\n",
              "0   Tênis Olympikus Esporte Valente - Masculino Kids\n",
              "1  Bicicleta Barra Forte Samy C/ 6 Marchas Cubo C...\n",
              "2       Tênis Usthemp Slip-on Temático - Labrador 2\n",
              "3        Tênis Casual Feminino Moleca Tecido Tie Dye\n",
              "4        Tênis Star Baby Sapatinho Conforto + Brinde"
            ],
            "text/html": [
              "\n",
              "  <div id=\"df-aebf01d4-3ae2-441b-9c94-06cc8cc46e37\" class=\"colab-df-container\">\n",
              "    <div>\n",
              "<style scoped>\n",
              "    .dataframe tbody tr th:only-of-type {\n",
              "        vertical-align: middle;\n",
              "    }\n",
              "\n",
              "    .dataframe tbody tr th {\n",
              "        vertical-align: top;\n",
              "    }\n",
              "\n",
              "    .dataframe thead th {\n",
              "        text-align: right;\n",
              "    }\n",
              "</style>\n",
              "<table border=\"1\" class=\"dataframe\">\n",
              "  <thead>\n",
              "    <tr style=\"text-align: right;\">\n",
              "      <th></th>\n",
              "      <th>ITE_ITEM_TITLE</th>\n",
              "    </tr>\n",
              "  </thead>\n",
              "  <tbody>\n",
              "    <tr>\n",
              "      <th>0</th>\n",
              "      <td>Tênis Olympikus Esporte Valente - Masculino Kids</td>\n",
              "    </tr>\n",
              "    <tr>\n",
              "      <th>1</th>\n",
              "      <td>Bicicleta Barra Forte Samy C/ 6 Marchas Cubo C...</td>\n",
              "    </tr>\n",
              "    <tr>\n",
              "      <th>2</th>\n",
              "      <td>Tênis Usthemp Slip-on Temático - Labrador 2</td>\n",
              "    </tr>\n",
              "    <tr>\n",
              "      <th>3</th>\n",
              "      <td>Tênis Casual Feminino Moleca Tecido Tie Dye</td>\n",
              "    </tr>\n",
              "    <tr>\n",
              "      <th>4</th>\n",
              "      <td>Tênis Star Baby Sapatinho Conforto + Brinde</td>\n",
              "    </tr>\n",
              "  </tbody>\n",
              "</table>\n",
              "</div>\n",
              "    <div class=\"colab-df-buttons\">\n",
              "\n",
              "  <div class=\"colab-df-container\">\n",
              "    <button class=\"colab-df-convert\" onclick=\"convertToInteractive('df-aebf01d4-3ae2-441b-9c94-06cc8cc46e37')\"\n",
              "            title=\"Convert this dataframe to an interactive table.\"\n",
              "            style=\"display:none;\">\n",
              "\n",
              "  <svg xmlns=\"http://www.w3.org/2000/svg\" height=\"24px\" viewBox=\"0 -960 960 960\">\n",
              "    <path d=\"M120-120v-720h720v720H120Zm60-500h600v-160H180v160Zm220 220h160v-160H400v160Zm0 220h160v-160H400v160ZM180-400h160v-160H180v160Zm440 0h160v-160H620v160ZM180-180h160v-160H180v160Zm440 0h160v-160H620v160Z\"/>\n",
              "  </svg>\n",
              "    </button>\n",
              "\n",
              "  <style>\n",
              "    .colab-df-container {\n",
              "      display:flex;\n",
              "      gap: 12px;\n",
              "    }\n",
              "\n",
              "    .colab-df-convert {\n",
              "      background-color: #E8F0FE;\n",
              "      border: none;\n",
              "      border-radius: 50%;\n",
              "      cursor: pointer;\n",
              "      display: none;\n",
              "      fill: #1967D2;\n",
              "      height: 32px;\n",
              "      padding: 0 0 0 0;\n",
              "      width: 32px;\n",
              "    }\n",
              "\n",
              "    .colab-df-convert:hover {\n",
              "      background-color: #E2EBFA;\n",
              "      box-shadow: 0px 1px 2px rgba(60, 64, 67, 0.3), 0px 1px 3px 1px rgba(60, 64, 67, 0.15);\n",
              "      fill: #174EA6;\n",
              "    }\n",
              "\n",
              "    .colab-df-buttons div {\n",
              "      margin-bottom: 4px;\n",
              "    }\n",
              "\n",
              "    [theme=dark] .colab-df-convert {\n",
              "      background-color: #3B4455;\n",
              "      fill: #D2E3FC;\n",
              "    }\n",
              "\n",
              "    [theme=dark] .colab-df-convert:hover {\n",
              "      background-color: #434B5C;\n",
              "      box-shadow: 0px 1px 3px 1px rgba(0, 0, 0, 0.15);\n",
              "      filter: drop-shadow(0px 1px 2px rgba(0, 0, 0, 0.3));\n",
              "      fill: #FFFFFF;\n",
              "    }\n",
              "  </style>\n",
              "\n",
              "    <script>\n",
              "      const buttonEl =\n",
              "        document.querySelector('#df-aebf01d4-3ae2-441b-9c94-06cc8cc46e37 button.colab-df-convert');\n",
              "      buttonEl.style.display =\n",
              "        google.colab.kernel.accessAllowed ? 'block' : 'none';\n",
              "\n",
              "      async function convertToInteractive(key) {\n",
              "        const element = document.querySelector('#df-aebf01d4-3ae2-441b-9c94-06cc8cc46e37');\n",
              "        const dataTable =\n",
              "          await google.colab.kernel.invokeFunction('convertToInteractive',\n",
              "                                                    [key], {});\n",
              "        if (!dataTable) return;\n",
              "\n",
              "        const docLinkHtml = 'Like what you see? Visit the ' +\n",
              "          '<a target=\"_blank\" href=https://colab.research.google.com/notebooks/data_table.ipynb>data table notebook</a>'\n",
              "          + ' to learn more about interactive tables.';\n",
              "        element.innerHTML = '';\n",
              "        dataTable['output_type'] = 'display_data';\n",
              "        await google.colab.output.renderOutput(dataTable, element);\n",
              "        const docLink = document.createElement('div');\n",
              "        docLink.innerHTML = docLinkHtml;\n",
              "        element.appendChild(docLink);\n",
              "      }\n",
              "    </script>\n",
              "  </div>\n",
              "\n",
              "\n",
              "    <div id=\"df-f1a37031-d763-4e14-a36a-516efae0cdd0\">\n",
              "      <button class=\"colab-df-quickchart\" onclick=\"quickchart('df-f1a37031-d763-4e14-a36a-516efae0cdd0')\"\n",
              "                title=\"Suggest charts\"\n",
              "                style=\"display:none;\">\n",
              "\n",
              "<svg xmlns=\"http://www.w3.org/2000/svg\" height=\"24px\"viewBox=\"0 0 24 24\"\n",
              "     width=\"24px\">\n",
              "    <g>\n",
              "        <path d=\"M19 3H5c-1.1 0-2 .9-2 2v14c0 1.1.9 2 2 2h14c1.1 0 2-.9 2-2V5c0-1.1-.9-2-2-2zM9 17H7v-7h2v7zm4 0h-2V7h2v10zm4 0h-2v-4h2v4z\"/>\n",
              "    </g>\n",
              "</svg>\n",
              "      </button>\n",
              "\n",
              "<style>\n",
              "  .colab-df-quickchart {\n",
              "      --bg-color: #E8F0FE;\n",
              "      --fill-color: #1967D2;\n",
              "      --hover-bg-color: #E2EBFA;\n",
              "      --hover-fill-color: #174EA6;\n",
              "      --disabled-fill-color: #AAA;\n",
              "      --disabled-bg-color: #DDD;\n",
              "  }\n",
              "\n",
              "  [theme=dark] .colab-df-quickchart {\n",
              "      --bg-color: #3B4455;\n",
              "      --fill-color: #D2E3FC;\n",
              "      --hover-bg-color: #434B5C;\n",
              "      --hover-fill-color: #FFFFFF;\n",
              "      --disabled-bg-color: #3B4455;\n",
              "      --disabled-fill-color: #666;\n",
              "  }\n",
              "\n",
              "  .colab-df-quickchart {\n",
              "    background-color: var(--bg-color);\n",
              "    border: none;\n",
              "    border-radius: 50%;\n",
              "    cursor: pointer;\n",
              "    display: none;\n",
              "    fill: var(--fill-color);\n",
              "    height: 32px;\n",
              "    padding: 0;\n",
              "    width: 32px;\n",
              "  }\n",
              "\n",
              "  .colab-df-quickchart:hover {\n",
              "    background-color: var(--hover-bg-color);\n",
              "    box-shadow: 0 1px 2px rgba(60, 64, 67, 0.3), 0 1px 3px 1px rgba(60, 64, 67, 0.15);\n",
              "    fill: var(--button-hover-fill-color);\n",
              "  }\n",
              "\n",
              "  .colab-df-quickchart-complete:disabled,\n",
              "  .colab-df-quickchart-complete:disabled:hover {\n",
              "    background-color: var(--disabled-bg-color);\n",
              "    fill: var(--disabled-fill-color);\n",
              "    box-shadow: none;\n",
              "  }\n",
              "\n",
              "  .colab-df-spinner {\n",
              "    border: 2px solid var(--fill-color);\n",
              "    border-color: transparent;\n",
              "    border-bottom-color: var(--fill-color);\n",
              "    animation:\n",
              "      spin 1s steps(1) infinite;\n",
              "  }\n",
              "\n",
              "  @keyframes spin {\n",
              "    0% {\n",
              "      border-color: transparent;\n",
              "      border-bottom-color: var(--fill-color);\n",
              "      border-left-color: var(--fill-color);\n",
              "    }\n",
              "    20% {\n",
              "      border-color: transparent;\n",
              "      border-left-color: var(--fill-color);\n",
              "      border-top-color: var(--fill-color);\n",
              "    }\n",
              "    30% {\n",
              "      border-color: transparent;\n",
              "      border-left-color: var(--fill-color);\n",
              "      border-top-color: var(--fill-color);\n",
              "      border-right-color: var(--fill-color);\n",
              "    }\n",
              "    40% {\n",
              "      border-color: transparent;\n",
              "      border-right-color: var(--fill-color);\n",
              "      border-top-color: var(--fill-color);\n",
              "    }\n",
              "    60% {\n",
              "      border-color: transparent;\n",
              "      border-right-color: var(--fill-color);\n",
              "    }\n",
              "    80% {\n",
              "      border-color: transparent;\n",
              "      border-right-color: var(--fill-color);\n",
              "      border-bottom-color: var(--fill-color);\n",
              "    }\n",
              "    90% {\n",
              "      border-color: transparent;\n",
              "      border-bottom-color: var(--fill-color);\n",
              "    }\n",
              "  }\n",
              "</style>\n",
              "\n",
              "      <script>\n",
              "        async function quickchart(key) {\n",
              "          const quickchartButtonEl =\n",
              "            document.querySelector('#' + key + ' button');\n",
              "          quickchartButtonEl.disabled = true;  // To prevent multiple clicks.\n",
              "          quickchartButtonEl.classList.add('colab-df-spinner');\n",
              "          try {\n",
              "            const charts = await google.colab.kernel.invokeFunction(\n",
              "                'suggestCharts', [key], {});\n",
              "          } catch (error) {\n",
              "            console.error('Error during call to suggestCharts:', error);\n",
              "          }\n",
              "          quickchartButtonEl.classList.remove('colab-df-spinner');\n",
              "          quickchartButtonEl.classList.add('colab-df-quickchart-complete');\n",
              "        }\n",
              "        (() => {\n",
              "          let quickchartButtonEl =\n",
              "            document.querySelector('#df-f1a37031-d763-4e14-a36a-516efae0cdd0 button');\n",
              "          quickchartButtonEl.style.display =\n",
              "            google.colab.kernel.accessAllowed ? 'block' : 'none';\n",
              "        })();\n",
              "      </script>\n",
              "    </div>\n",
              "\n",
              "    </div>\n",
              "  </div>\n"
            ],
            "application/vnd.google.colaboratory.intrinsic+json": {
              "type": "dataframe",
              "summary": "{\n  \"name\": \"display(df_test\",\n  \"rows\": 5,\n  \"fields\": [\n    {\n      \"column\": \"ITE_ITEM_TITLE\",\n      \"properties\": {\n        \"dtype\": \"string\",\n        \"num_unique_values\": 5,\n        \"samples\": [\n          \"Bicicleta Barra Forte Samy C/ 6 Marchas Cubo C/ Rolamento\",\n          \"T\\u00eanis Star Baby Sapatinho Conforto + Brinde\",\n          \"T\\u00eanis Usthemp Slip-on Tem\\u00e1\\u0081tico - Labrador 2\"\n        ],\n        \"semantic_type\": \"\",\n        \"description\": \"\"\n      }\n    }\n  ]\n}"
            }
          },
          "metadata": {}
        }
      ]
    },
    {
      "cell_type": "markdown",
      "source": [
        "### Procesamiento de texto"
      ],
      "metadata": {
        "id": "YrPbLegvbjOf"
      }
    },
    {
      "cell_type": "code",
      "source": [
        "def preprocess_text(text):\n",
        "    \"\"\"\n",
        "    Preprocesa el texto del título:\n",
        "    - Convierte a minúsculas\n",
        "    - Elimina caracteres especiales\n",
        "    - Normaliza espacios\n",
        "    \"\"\"\n",
        "    if pd.isna(text):\n",
        "        return \"\"\n",
        "\n",
        "    # Convertir a minúsculas\n",
        "    text = str(text).lower()\n",
        "\n",
        "    # Mantener solo letras, números y espacios\n",
        "    text = re.sub(r'[^a-záàâãéèêíïóôõöúçñ0-9\\s]', ' ', text)\n",
        "\n",
        "    # Normalizar espacios múltiples\n",
        "    text = re.sub(r'\\s+', ' ', text).strip()\n",
        "\n",
        "    return text"
      ],
      "metadata": {
        "id": "hBhM_JQdbgXA"
      },
      "execution_count": 3,
      "outputs": []
    },
    {
      "cell_type": "code",
      "source": [
        "print(\"\\n\" + \"=\" * 80)\n",
        "print(\"PREPROCESAMIENTO DE TEXTO\")\n",
        "print(\"=\" * 80)\n",
        "\n",
        "df_train['title_clean'] = df_train['ITE_ITEM_TITLE'].apply(preprocess_text)\n",
        "df_test['title_clean'] = df_test['ITE_ITEM_TITLE'].apply(preprocess_text)\n",
        "\n",
        "print(\"\\nEjemplos de títulos preprocesados:\")\n",
        "for i in range(3):\n",
        "    print(f\"\\nOriginal: {df_train.iloc[i]['ITE_ITEM_TITLE']}\")\n",
        "    print(f\"Limpio:   {df_train.iloc[i]['title_clean']}\")"
      ],
      "metadata": {
        "colab": {
          "base_uri": "https://localhost:8080/"
        },
        "id": "nTUUiAdJbikt",
        "outputId": "cec2c796-7ba9-47ec-875b-fafef087ea00"
      },
      "execution_count": 4,
      "outputs": [
        {
          "output_type": "stream",
          "name": "stdout",
          "text": [
            "\n",
            "================================================================================\n",
            "PREPROCESAMIENTO DE TEXTO\n",
            "================================================================================\n",
            "\n",
            "Ejemplos de títulos preprocesados:\n",
            "\n",
            "Original: Tênis Ascension Posh Masculino - Preto E Vermelho \n",
            "Limpio:   tênis ascension posh masculino preto e vermelho\n",
            "\n",
            "Original: Tenis Para Caminhada Super Levinho Spider Corrida \n",
            "Limpio:   tenis para caminhada super levinho spider corrida\n",
            "\n",
            "Original: Tênis Feminino Le Parc Hocks Black/ice Original Envio Já\n",
            "Limpio:   tênis feminino le parc hocks black ice original envio já\n"
          ]
        }
      ]
    },
    {
      "cell_type": "markdown",
      "source": [
        "### Generación de características"
      ],
      "metadata": {
        "id": "dM6NXxxVb9yN"
      }
    },
    {
      "cell_type": "code",
      "source": [
        "print(\"\\n\" + \"=\" * 80)\n",
        "print(\"VECTORIZACIÓN TF-IDF\")\n",
        "print(\"=\" * 80)\n",
        "\n",
        "# Inicializar vectorizador TF-IDF\n",
        "# Usamos bigramas y trigramas para capturar mejor el contexto\n",
        "tfidf = TfidfVectorizer(\n",
        "    ngram_range=(1, 3),  # Unigramas, bigramas y trigramas\n",
        "    min_df=2,  # Ignorar términos que aparecen en menos de 2 documentos\n",
        "    max_df=0.95,  # Ignorar términos muy comunes\n",
        "    sublinear_tf=True  # Aplicar escala logarítmica a las frecuencias\n",
        ")\n",
        "\n",
        "# Entrenar el vectorizador con todos los títulos (train + test)\n",
        "all_titles = pd.concat([df_train['title_clean'], df_test['title_clean']])\n",
        "print(f\"\\nEntrenando TF-IDF con {len(all_titles):,} títulos...\")\n",
        "\n",
        "start_time = time.time()\n",
        "tfidf.fit(all_titles)\n",
        "train_time = time.time() - start_time\n",
        "\n",
        "print(f\"Tiempo de entrenamiento: {train_time:.2f} segundos\")\n",
        "print(f\"Vocabulario generado: {len(tfidf.vocabulary_):,} términos\")"
      ],
      "metadata": {
        "colab": {
          "base_uri": "https://localhost:8080/"
        },
        "id": "pQSCcWjKb8IG",
        "outputId": "52fd170c-7085-46bf-b782-a35c58b029ae"
      },
      "execution_count": 5,
      "outputs": [
        {
          "output_type": "stream",
          "name": "stdout",
          "text": [
            "\n",
            "================================================================================\n",
            "VECTORIZACIÓN TF-IDF\n",
            "================================================================================\n",
            "\n",
            "Entrenando TF-IDF con 40,000 títulos...\n",
            "Tiempo de entrenamiento: 1.15 segundos\n",
            "Vocabulario generado: 57,280 términos\n"
          ]
        }
      ]
    },
    {
      "cell_type": "code",
      "source": [
        "# Transformar el dataset de test\n",
        "print(\"\\nTransformando dataset de test...\")\n",
        "start_time = time.time()\n",
        "test_vectors = tfidf.transform(df_test['title_clean'])\n",
        "transform_time = time.time() - start_time\n",
        "\n",
        "print(f\"Tiempo de transformación: {transform_time:.2f} segundos\")\n",
        "print(f\"Shape de la matriz TF-IDF: {test_vectors.shape}\")"
      ],
      "metadata": {
        "colab": {
          "base_uri": "https://localhost:8080/"
        },
        "id": "UfJNGB2bcEoe",
        "outputId": "f9fd730e-944c-42c4-8260-6b4325269c3d"
      },
      "execution_count": 6,
      "outputs": [
        {
          "output_type": "stream",
          "name": "stdout",
          "text": [
            "\n",
            "Transformando dataset de test...\n",
            "Tiempo de transformación: 0.21 segundos\n",
            "Shape de la matriz TF-IDF: (10000, 57280)\n"
          ]
        }
      ]
    },
    {
      "cell_type": "markdown",
      "source": [
        "### Calculo de similitud"
      ],
      "metadata": {
        "id": "dRYwcny6cJrW"
      }
    },
    {
      "cell_type": "code",
      "source": [
        "def calculate_similarities_batch(vectors, batch_size=100):\n",
        "    \"\"\"\n",
        "    Calcula la matriz de similitud por lotes para optimizar memoria.\n",
        "    \"\"\"\n",
        "    n_items = vectors.shape[0]\n",
        "    n_batches = (n_items + batch_size - 1) // batch_size\n",
        "\n",
        "    similarities = []\n",
        "\n",
        "    for i in range(n_batches):\n",
        "        start_idx = i * batch_size\n",
        "        end_idx = min((i + 1) * batch_size, n_items)\n",
        "\n",
        "        # Calcular similitud para este lote\n",
        "        batch_sim = cosine_similarity(vectors[start_idx:end_idx], vectors)\n",
        "        similarities.append(batch_sim)\n",
        "\n",
        "        if (i + 1) % 10 == 0:\n",
        "            print(f\"Procesado {end_idx}/{n_items} items...\")\n",
        "\n",
        "    return np.vstack(similarities)"
      ],
      "metadata": {
        "id": "USzTrfukcI4t"
      },
      "execution_count": 7,
      "outputs": []
    },
    {
      "cell_type": "code",
      "source": [
        "print(\"\\n\" + \"=\" * 80)\n",
        "print(\"CÁLCULO DE SIMILITUD COSENO\")\n",
        "print(\"=\" * 80)\n",
        "\n",
        "print(f\"\\nCalculando similitud para {test_vectors.shape[0]} items...\")\n",
        "start_time = time.time()\n",
        "similarity_matrix = calculate_similarities_batch(test_vectors)\n",
        "similarity_time = time.time() - start_time\n",
        "\n",
        "print(f\"Tiempo de cálculo: {similarity_time:.2f} segundos\")\n",
        "print(f\"Shape de matriz de similitud: {similarity_matrix.shape}\")"
      ],
      "metadata": {
        "colab": {
          "base_uri": "https://localhost:8080/"
        },
        "id": "XgUwOtaMcNp1",
        "outputId": "2ce6fefc-f836-41f3-b220-ec8b58be3f30"
      },
      "execution_count": 8,
      "outputs": [
        {
          "output_type": "stream",
          "name": "stdout",
          "text": [
            "\n",
            "================================================================================\n",
            "CÁLCULO DE SIMILITUD COSENO\n",
            "================================================================================\n",
            "\n",
            "Calculando similitud para 10000 items...\n",
            "Procesado 1000/10000 items...\n",
            "Procesado 2000/10000 items...\n",
            "Procesado 3000/10000 items...\n",
            "Procesado 4000/10000 items...\n",
            "Procesado 5000/10000 items...\n",
            "Procesado 6000/10000 items...\n",
            "Procesado 7000/10000 items...\n",
            "Procesado 8000/10000 items...\n",
            "Procesado 9000/10000 items...\n",
            "Procesado 10000/10000 items...\n",
            "Tiempo de cálculo: 2.45 segundos\n",
            "Shape de matriz de similitud: (10000, 10000)\n"
          ]
        }
      ]
    },
    {
      "cell_type": "markdown",
      "source": [
        "### Generación de pares similares"
      ],
      "metadata": {
        "id": "BddsxwG0cT32"
      }
    },
    {
      "cell_type": "code",
      "source": [
        "def generate_similarity_pairs(similarity_matrix, df_test, top_k=10):\n",
        "    \"\"\"\n",
        "    Genera pares de productos similares ordenados por score.\n",
        "    Excluye la diagonal (similitud consigo mismo).\n",
        "    \"\"\"\n",
        "    pairs = []\n",
        "    n_items = similarity_matrix.shape[0]\n",
        "\n",
        "    for i in range(n_items):\n",
        "        # Obtener índices ordenados por similitud (descendente)\n",
        "        similar_indices = np.argsort(similarity_matrix[i])[::-1]\n",
        "\n",
        "        # Excluir el mismo item (diagonal)\n",
        "        similar_indices = similar_indices[similar_indices != i]\n",
        "\n",
        "        # Tomar los top_k más similares\n",
        "        for j in similar_indices[:top_k]:\n",
        "            # Solo agregar pares únicos (i < j) para evitar duplicados\n",
        "            if i < j:\n",
        "                pairs.append({\n",
        "                    'item_id_1': df_test.index[i],   # Usar índice como ID\n",
        "                    'item_id_2': df_test.index[j],   # Usar índice como ID\n",
        "                    'similarity_score': similarity_matrix[i, j],\n",
        "                    'title_1': df_test.iloc[i]['ITE_ITEM_TITLE'],\n",
        "                    'title_2': df_test.iloc[j]['ITE_ITEM_TITLE']\n",
        "                })\n",
        "\n",
        "    return pairs"
      ],
      "metadata": {
        "id": "hdMF7ug1cXbt"
      },
      "execution_count": 9,
      "outputs": []
    },
    {
      "cell_type": "code",
      "source": [
        "print(\"\\n\" + \"=\" * 80)\n",
        "print(\"GENERACIÓN DE PARES SIMILARES\")\n",
        "print(\"=\" * 80)\n",
        "\n",
        "print(\"\\nGenerando pares de similitud...\")\n",
        "start_time = time.time()\n",
        "pairs = generate_similarity_pairs(similarity_matrix, df_test, top_k=5)\n",
        "pairs_time = time.time() - start_time\n",
        "\n",
        "# Crear DataFrame con los pares\n",
        "df_pairs = pd.DataFrame(pairs)\n",
        "\n",
        "# Ordenar por similitud descendente\n",
        "df_pairs = df_pairs.sort_values('similarity_score', ascending=False).reset_index(drop=True)\n",
        "\n",
        "print(f\"Tiempo de generación: {pairs_time:.2f} segundos\")\n",
        "print(f\"Total de pares generados: {len(df_pairs):,}\")"
      ],
      "metadata": {
        "colab": {
          "base_uri": "https://localhost:8080/"
        },
        "id": "a5F1Nzc4calH",
        "outputId": "3eaa666d-467c-4876-ee4a-663ea0fb8146"
      },
      "execution_count": 10,
      "outputs": [
        {
          "output_type": "stream",
          "name": "stdout",
          "text": [
            "\n",
            "================================================================================\n",
            "GENERACIÓN DE PARES SIMILARES\n",
            "================================================================================\n",
            "\n",
            "Generando pares de similitud...\n",
            "Tiempo de generación: 9.64 segundos\n",
            "Total de pares generados: 25,129\n"
          ]
        }
      ]
    },
    {
      "cell_type": "markdown",
      "source": [
        "### Resultados"
      ],
      "metadata": {
        "id": "DWwscMtkdWzc"
      }
    },
    {
      "cell_type": "code",
      "source": [
        "print(\"\\n\" + \"=\" * 80)\n",
        "print(\"TOP 20 PARES MÁS SIMILARES\")\n",
        "print(\"=\" * 80)\n",
        "\n",
        "# Mostrar top 5 pares\n",
        "for idx, row in df_pairs.head(5).iterrows():\n",
        "    print(f\"\\n--- Par #{idx + 1} (Score: {row['similarity_score']:.4f}) ---\")\n",
        "    print(f\"ID 1: {row['item_id_1']}\")\n",
        "    print(f\"Título 1: {row['title_1']}\")\n",
        "    print(f\"ID 2: {row['item_id_2']}\")\n",
        "    print(f\"Título 2: {row['title_2']}\")\n",
        "\n",
        "# Guardar resultados\n",
        "output_df = df_pairs[['item_id_1', 'item_id_2', 'similarity_score']]\n",
        "output_df.to_csv('similitud/similarity_results.csv', index=False)\n",
        "print(\"\\n✓ Resultados guardados en 'similitud/similarity_results.csv'\")"
      ],
      "metadata": {
        "colab": {
          "base_uri": "https://localhost:8080/"
        },
        "id": "xmVfTvI6dZ2c",
        "outputId": "d69cf5e8-51d6-407d-f676-0167ea16afe8"
      },
      "execution_count": 11,
      "outputs": [
        {
          "output_type": "stream",
          "name": "stdout",
          "text": [
            "\n",
            "================================================================================\n",
            "TOP 20 PARES MÁS SIMILARES\n",
            "================================================================================\n",
            "\n",
            "--- Par #1 (Score: 1.0000) ---\n",
            "ID 1: 2441\n",
            "Título 1: Tênis Mizuno Wave Prophecy 6 -  Ref***0000039\n",
            "ID 2: 5399\n",
            "Título 2: Tênis Mizuno Wave Prophecy 6 -  Ref***0000054\n",
            "\n",
            "--- Par #2 (Score: 1.0000) ---\n",
            "ID 1: 1204\n",
            "Título 1: Tenis Infantil Tênis Feminino Promoção Brinde Bolsa P Não Pe\n",
            "ID 2: 1725\n",
            "Título 2: Tenis Infantil Tênis Feminino Promoção Brinde Bolsa U Não Pe\n",
            "\n",
            "--- Par #3 (Score: 1.0000) ---\n",
            "ID 1: 22\n",
            "Título 1: Tênis Skechers M Go Walk Evolution Ultra\n",
            "ID 2: 5718\n",
            "Título 2: Tênis Skechers Go Walk Evolution Ultra\n",
            "\n",
            "--- Par #4 (Score: 1.0000) ---\n",
            "ID 1: 1834\n",
            "Título 1: Tênis Feminino Kolosh C1323a\n",
            "ID 2: 4679\n",
            "Título 2: Tênis Feminino Kolosh Arya\n",
            "\n",
            "--- Par #5 (Score: 1.0000) ---\n",
            "ID 1: 4031\n",
            "Título 1: Bike Speed\n",
            "ID 2: 8513\n",
            "Título 2: Bike Speed Redbull\n",
            "\n",
            "✓ Resultados guardados en 'similitud/similarity_results.csv'\n"
          ]
        }
      ]
    },
    {
      "cell_type": "markdown",
      "source": [
        "### Análisis de escalabilidad"
      ],
      "metadata": {
        "id": "M5ZlQk0kdqLd"
      }
    },
    {
      "cell_type": "code",
      "source": [
        "print(\"\\n\" + \"=\" * 80)\n",
        "print(\"ANÁLISIS DE ESCALABILIDAD\")\n",
        "print(\"=\" * 80)\n",
        "\n",
        "# Resumen de tiempos\n",
        "total_time = train_time + transform_time + similarity_time + pairs_time\n",
        "\n",
        "print(f\"\\nTiempo total de ejecución: {total_time:.2f} segundos\")\n",
        "print(f\"\\nDesglose:\")\n",
        "print(f\"  - Entrenamiento TF-IDF:    {train_time:.2f}s ({train_time/total_time*100:.1f}%)\")\n",
        "print(f\"  - Transformación:          {transform_time:.2f}s ({transform_time/total_time*100:.1f}%)\")\n",
        "print(f\"  - Cálculo de similitud:    {similarity_time:.2f}s ({similarity_time/total_time*100:.1f}%)\")\n",
        "print(f\"  - Generación de pares:     {pairs_time:.2f}s ({pairs_time/total_time*100:.1f}%)\")\n",
        "\n",
        "# Proyección para diferentes tamaños\n",
        "print(f\"\\n📈 Proyección de tiempos (estimado):\")\n",
        "n = len(df_test)\n",
        "sizes = [1000, 5000, 10000, 50000, 100000]\n",
        "for size in sizes:\n",
        "    scale_factor = (size / n) ** 2  # Complejidad cuadrática\n",
        "    estimated_time = similarity_time * scale_factor\n",
        "    print(f\"  - {size:,} items: ~{estimated_time:.1f} segundos (~{estimated_time/60:.1f} min)\")\n",
        "\n",
        "# Análisis de complejidad\n",
        "print(f\"  - Tamaño del dataset: n = {n:,}\")"
      ],
      "metadata": {
        "colab": {
          "base_uri": "https://localhost:8080/"
        },
        "id": "xMKaG3Q6duvN",
        "outputId": "5e22ae28-e1ef-4355-e7d4-577856a79912"
      },
      "execution_count": 13,
      "outputs": [
        {
          "output_type": "stream",
          "name": "stdout",
          "text": [
            "\n",
            "================================================================================\n",
            "ANÁLISIS DE ESCALABILIDAD\n",
            "================================================================================\n",
            "\n",
            "Tiempo total de ejecución: 13.44 segundos\n",
            "\n",
            "Desglose:\n",
            "  - Entrenamiento TF-IDF:    1.15s (8.5%)\n",
            "  - Transformación:          0.21s (1.5%)\n",
            "  - Cálculo de similitud:    2.45s (18.3%)\n",
            "  - Generación de pares:     9.64s (71.7%)\n",
            "\n",
            "📈 Proyección de tiempos (estimado):\n",
            "  - 1,000 items: ~0.0 segundos (~0.0 min)\n",
            "  - 5,000 items: ~0.6 segundos (~0.0 min)\n",
            "  - 10,000 items: ~2.5 segundos (~0.0 min)\n",
            "  - 50,000 items: ~61.3 segundos (~1.0 min)\n",
            "  - 100,000 items: ~245.4 segundos (~4.1 min)\n",
            "  - Tamaño del dataset: n = 10,000\n"
          ]
        }
      ]
    },
    {
      "cell_type": "markdown",
      "source": [
        "📊 Análisis de Complejidad:\n",
        "  - Complejidad TF-IDF: O(n * m) donde m = tamaño del vocabulario\n",
        "  - Complejidad similitud: O(n²) - Cuadrática\n",
        "  - Memoria requerida: O(n²) para matriz de similitud\n",
        "\n",
        "⚠️ LIMITACIONES DE ESCALABILIDAD:\n",
        "  - La complejidad O(n²) hace que sea difícil escalar a millones de items\n",
        "  - La matriz de similitud requiere mucha memoria para datasets grandes\n",
        "\n",
        "💡 SOLUCIONES PARA MEJORAR ESCALABILIDAD:\n",
        "  1. Approximate Nearest Neighbors (ANN) como Annoy\n",
        "  2. Reducción de dimensionalidad (PCA, SVD)"
      ],
      "metadata": {
        "id": "eAy44t0KgBA6"
      }
    },
    {
      "cell_type": "markdown",
      "source": [
        "### Solución escalable"
      ],
      "metadata": {
        "id": "1zzgvTg6g36o"
      }
    },
    {
      "cell_type": "code",
      "source": [
        "print(\"\\n\" + \"=\" * 80)\n",
        "print(\"PASO 1: REDUCCIÓN DE DIMENSIONALIDAD (SVD)\")\n",
        "print(\"=\" * 80)\n",
        "\n",
        "n_features_original = test_vectors.shape[1]\n",
        "print(f\"\\nDimensiones originales: {test_vectors.shape}\")\n",
        "print(f\"Memoria aprox: {test_vectors.data.nbytes / 1024**2:.2f} MB\")\n",
        "\n",
        "# Aplicar SVD para reducir dimensionalidad\n",
        "n_components = min(128, test_vectors.shape[1] - 1)  # Reducir a 128 dimensiones\n",
        "print(f\"\\nReduciendo a {n_components} componentes con SVD...\")\n",
        "\n",
        "start_time = time.time()\n",
        "svd = TruncatedSVD(n_components=n_components, random_state=42)\n",
        "test_vectors_reduced = svd.fit_transform(test_vectors)\n",
        "svd_time = time.time() - start_time\n",
        "\n",
        "print(f\"✓ SVD completado en {svd_time:.2f} segundos\")\n",
        "print(f\"Nuevas dimensiones: {test_vectors_reduced.shape}\")\n",
        "print(f\"Varianza explicada: {svd.explained_variance_ratio_.sum():.2%}\")\n",
        "print(f\"Reducción de memoria: {test_vectors_reduced.nbytes / 1024**2:.2f} MB\")"
      ],
      "metadata": {
        "colab": {
          "base_uri": "https://localhost:8080/"
        },
        "id": "NP5rc7kWg6XB",
        "outputId": "e37f6735-478f-4914-ed84-89a5fa5a372d"
      },
      "execution_count": 14,
      "outputs": [
        {
          "output_type": "stream",
          "name": "stdout",
          "text": [
            "\n",
            "================================================================================\n",
            "PASO 1: REDUCCIÓN DE DIMENSIONALIDAD (SVD)\n",
            "================================================================================\n",
            "\n",
            "Dimensiones originales: (10000, 57280)\n",
            "Memoria aprox: 1.07 MB\n",
            "\n",
            "Reduciendo a 128 componentes con SVD...\n",
            "✓ SVD completado en 4.89 segundos\n",
            "Nuevas dimensiones: (10000, 128)\n",
            "Varianza explicada: 15.31%\n",
            "Reducción de memoria: 9.77 MB\n"
          ]
        }
      ]
    },
    {
      "cell_type": "markdown",
      "source": [
        "### Construcción de indices Annoy"
      ],
      "metadata": {
        "id": "yXcMKYg9hLwq"
      }
    },
    {
      "cell_type": "code",
      "source": [
        "!pip install annoy"
      ],
      "metadata": {
        "colab": {
          "base_uri": "https://localhost:8080/"
        },
        "id": "eG2YrU_XhfWK",
        "outputId": "9fe6a863-cbb5-46eb-f39a-e3289b31b18e"
      },
      "execution_count": 15,
      "outputs": [
        {
          "output_type": "stream",
          "name": "stdout",
          "text": [
            "Collecting annoy\n",
            "  Downloading annoy-1.17.3.tar.gz (647 kB)\n",
            "\u001b[?25l     \u001b[90m━━━━━━━━━━━━━━━━━━━━━━━━━━━━━━━━━━━━━━━━\u001b[0m \u001b[32m0.0/647.5 kB\u001b[0m \u001b[31m?\u001b[0m eta \u001b[36m-:--:--\u001b[0m\r\u001b[2K     \u001b[90m━━━━━━━━━━━━━━━━━━━━━━━━━━━━━━━━━━━━━━\u001b[0m \u001b[32m647.5/647.5 kB\u001b[0m \u001b[31m34.2 MB/s\u001b[0m eta \u001b[36m0:00:00\u001b[0m\n",
            "\u001b[?25h  Preparing metadata (setup.py) ... \u001b[?25l\u001b[?25hdone\n",
            "Building wheels for collected packages: annoy\n",
            "  Building wheel for annoy (setup.py) ... \u001b[?25l\u001b[?25hdone\n",
            "  Created wheel for annoy: filename=annoy-1.17.3-cp312-cp312-linux_x86_64.whl size=551807 sha256=ffa2af6de29e3a0c49530c2049c3ac1636fb4a3b7410de114f16fe36c62a2b95\n",
            "  Stored in directory: /root/.cache/pip/wheels/db/b9/53/a3b2d1fe1743abadddec6aa541294b24fdbc39d7800bc57311\n",
            "Successfully built annoy\n",
            "Installing collected packages: annoy\n",
            "Successfully installed annoy-1.17.3\n"
          ]
        }
      ]
    },
    {
      "cell_type": "code",
      "source": [
        "import subprocess\n",
        "from annoy import AnnoyIndex"
      ],
      "metadata": {
        "id": "5g-KldAFhZ0B"
      },
      "execution_count": 16,
      "outputs": []
    },
    {
      "cell_type": "code",
      "source": [
        "print(\"\\n\" + \"=\" * 80)\n",
        "print(\"PASO 2: CONSTRUCCIÓN DE ÍNDICE ANNOY (ANN)\")\n",
        "print(\"=\" * 80)\n",
        "\n",
        "# Parámetros de Annoy\n",
        "n_trees = 50  # Más árboles = mayor precisión pero más lento\n",
        "dims = test_vectors_reduced.shape[1]\n",
        "\n",
        "print(f\"\\nParámetros:\")\n",
        "print(f\"  - Dimensiones: {dims}\")\n",
        "print(f\"  - Número de árboles: {n_trees}\")\n",
        "print(f\"  - Métrica: Angular (equivalente a coseno)\")\n",
        "\n",
        "# Crear índice Annoy\n",
        "start_time = time.time()\n",
        "index = AnnoyIndex(dims, metric='angular')\n",
        "\n",
        "# Agregar todos los vectores al índice\n",
        "for i, vec in enumerate(test_vectors_reduced):\n",
        "    index.add_item(i, vec.astype(np.float32))\n",
        "    if (i + 1) % 1000 == 0:\n",
        "        print(f\"  Agregados {i + 1}/{len(test_vectors_reduced)} items...\")\n",
        "\n",
        "# Construir el índice\n",
        "print(\"\\nConstruyendo índice...\")\n",
        "index.build(n_trees)\n",
        "build_time = time.time() - start_time\n",
        "\n",
        "print(f\"✓ Índice construido en {build_time:.2f} segundos\")\n",
        "\n",
        "# Guardar índice (opcional)\n",
        "index.save('similitud/product_similarity.ann')\n",
        "print(\"✓ Índice guardado en 'similitud/product_similarity.ann'\")"
      ],
      "metadata": {
        "colab": {
          "base_uri": "https://localhost:8080/"
        },
        "id": "JT1-vhEFhO1p",
        "outputId": "3ebc987b-f8a4-418f-d256-43fcd183cbad"
      },
      "execution_count": 17,
      "outputs": [
        {
          "output_type": "stream",
          "name": "stdout",
          "text": [
            "\n",
            "================================================================================\n",
            "PASO 2: CONSTRUCCIÓN DE ÍNDICE ANNOY (ANN)\n",
            "================================================================================\n",
            "\n",
            "Parámetros:\n",
            "  - Dimensiones: 128\n",
            "  - Número de árboles: 50\n",
            "  - Métrica: Angular (equivalente a coseno)\n",
            "  Agregados 1000/10000 items...\n",
            "  Agregados 2000/10000 items...\n",
            "  Agregados 3000/10000 items...\n",
            "  Agregados 4000/10000 items...\n",
            "  Agregados 5000/10000 items...\n",
            "  Agregados 6000/10000 items...\n",
            "  Agregados 7000/10000 items...\n",
            "  Agregados 8000/10000 items...\n",
            "  Agregados 9000/10000 items...\n",
            "  Agregados 10000/10000 items...\n",
            "\n",
            "Construyendo índice...\n",
            "✓ Índice construido en 0.66 segundos\n",
            "✓ Índice guardado en 'similitud/product_similarity.ann'\n"
          ]
        }
      ]
    },
    {
      "cell_type": "markdown",
      "source": [
        "### Busqueda rápida de vecinos más cercanos"
      ],
      "metadata": {
        "id": "UfFDsf1Jh1ax"
      }
    },
    {
      "cell_type": "code",
      "source": [
        "print(\"\\n\" + \"=\" * 80)\n",
        "print(\"PASO 3: BÚSQUEDA DE VECINOS MÁS CERCANOS\")\n",
        "print(\"=\" * 80)\n",
        "\n",
        "k = 5  # Encontrar los 5 más similares (k+1 porque incluye el mismo item)\n",
        "\n",
        "print(f\"\\nBuscando {k-1} vecinos más cercanos para cada item...\")\n",
        "start_time = time.time()\n",
        "\n",
        "all_neighbors = []\n",
        "for i, vec in enumerate(test_vectors_reduced):\n",
        "    # get_nns_by_vector devuelve índices y distancias\n",
        "    neighbors_ids, distances = index.get_nns_by_vector(\n",
        "        vec.astype(np.float32),\n",
        "        k,\n",
        "        include_distances=True\n",
        "    )\n",
        "    all_neighbors.append((neighbors_ids, distances))\n",
        "\n",
        "    if (i + 1) % 1000 == 0:\n",
        "        print(f\"  Procesados {i + 1}/{len(test_vectors_reduced)} items...\")\n",
        "\n",
        "query_time = time.time() - start_time\n",
        "\n",
        "print(f\"\\n✓ Búsqueda completada en {query_time:.2f} segundos\")\n",
        "print(f\"  Tiempo promedio por consulta: {query_time/len(test_vectors_reduced)*1000:.2f} ms\")"
      ],
      "metadata": {
        "colab": {
          "base_uri": "https://localhost:8080/"
        },
        "id": "lkMmnQRHh5ZR",
        "outputId": "17578769-b2ad-40a0-dcd5-a0fbe83e6a50"
      },
      "execution_count": 18,
      "outputs": [
        {
          "output_type": "stream",
          "name": "stdout",
          "text": [
            "\n",
            "================================================================================\n",
            "PASO 3: BÚSQUEDA DE VECINOS MÁS CERCANOS\n",
            "================================================================================\n",
            "\n",
            "Buscando 4 vecinos más cercanos para cada item...\n",
            "  Procesados 1000/10000 items...\n",
            "  Procesados 2000/10000 items...\n",
            "  Procesados 3000/10000 items...\n",
            "  Procesados 4000/10000 items...\n",
            "  Procesados 5000/10000 items...\n",
            "  Procesados 6000/10000 items...\n",
            "  Procesados 7000/10000 items...\n",
            "  Procesados 8000/10000 items...\n",
            "  Procesados 9000/10000 items...\n",
            "  Procesados 10000/10000 items...\n",
            "\n",
            "✓ Búsqueda completada en 2.14 segundos\n",
            "  Tiempo promedio por consulta: 0.21 ms\n"
          ]
        }
      ]
    },
    {
      "cell_type": "markdown",
      "source": [
        "### Generación de pares similares"
      ],
      "metadata": {
        "id": "y9VZCwVkiDSA"
      }
    },
    {
      "cell_type": "code",
      "source": [
        "print(\"\\n\" + \"=\" * 80)\n",
        "print(\"PASO 4: GENERACIÓN DE PARES SIMILARES\")\n",
        "print(\"=\" * 80)\n",
        "\n",
        "pairs_annoy = []\n",
        "\n",
        "for i, (neighbor_ids, distances) in enumerate(all_neighbors):\n",
        "    # Convertir distancia angular a similitud\n",
        "    # Angular distance en Annoy: sqrt(2 * (1 - cos_similarity))\n",
        "    # Por lo tanto: cos_similarity = 1 - (angular_dist^2 / 2)\n",
        "\n",
        "    for j in range(1, len(neighbor_ids)):  # Saltar el primer elemento (es el mismo item)\n",
        "        neighbor_id = neighbor_ids[j]\n",
        "        angular_dist = distances[j]\n",
        "\n",
        "        # Convertir a similitud coseno\n",
        "        similarity = 1 - (angular_dist ** 2 / 2)\n",
        "\n",
        "        # Solo agregar pares únicos (i < neighbor_id)\n",
        "        if i < neighbor_id:\n",
        "            pairs_annoy.append({\n",
        "                'item_id_1': df_test.index[i],       # usar índice como ID\n",
        "                'item_id_2': df_test.index[neighbor_id],\n",
        "                'similarity_score': similarity,\n",
        "                'title_1': df_test.iloc[i]['ITE_ITEM_TITLE'],\n",
        "                'title_2': df_test.iloc[neighbor_id]['ITE_ITEM_TITLE']\n",
        "            })\n",
        "\n",
        "# Crear DataFrame\n",
        "df_pairs_annoy = pd.DataFrame(pairs_annoy)\n",
        "df_pairs_annoy = df_pairs_annoy.sort_values('similarity_score', ascending=False).reset_index(drop=True)\n",
        "\n",
        "print(f\"✓ Total de pares generados: {len(df_pairs_annoy):,}\")\n",
        "\n",
        "# Guardar resultados\n",
        "df_pairs_annoy[['item_id_1', 'item_id_2', 'similarity_score']].to_csv(\n",
        "    'similitud/similarity_results_annoy.csv',\n",
        "    index=False\n",
        ")\n",
        "print(\"✓ Resultados guardados en 'similitud/similarity_results_annoy.csv'\")"
      ],
      "metadata": {
        "colab": {
          "base_uri": "https://localhost:8080/"
        },
        "id": "xUBxPacIh924",
        "outputId": "4156a9e9-ffa5-49cc-aeef-ebc3bec5991a"
      },
      "execution_count": 19,
      "outputs": [
        {
          "output_type": "stream",
          "name": "stdout",
          "text": [
            "\n",
            "================================================================================\n",
            "PASO 4: GENERACIÓN DE PARES SIMILARES\n",
            "================================================================================\n",
            "✓ Total de pares generados: 19,960\n",
            "✓ Resultados guardados en 'similitud/similarity_results_annoy.csv'\n"
          ]
        }
      ]
    },
    {
      "cell_type": "markdown",
      "source": [
        "### Comparación: brute force vs annoy"
      ],
      "metadata": {
        "id": "GUVxZexFikcC"
      }
    },
    {
      "cell_type": "code",
      "source": [
        "print(\"\\n\" + \"=\" * 80)\n",
        "print(\"COMPARACIÓN: MÉTODO EXACTO VS APROXIMADO\")\n",
        "print(\"=\" * 80)\n",
        "\n",
        "# Resumen de tiempos\n",
        "total_time_exact = train_time + transform_time + similarity_time + pairs_time\n",
        "total_time_annoy = svd_time + build_time + query_time\n",
        "\n",
        "print(f\"\\n{'Método':<20} {'Tiempo Total':<15} {'Tiempo/item':<15}\")\n",
        "print(\"-\" * 50)\n",
        "print(f\"{'Exacto (Brute-force)':<20} {total_time_exact:>12.2f}s  {total_time_exact/n*1000:>12.2f}ms\")\n",
        "print(f\"{'Aproximado (Annoy)':<20} {total_time_annoy:>12.2f}s  {total_time_annoy/n*1000:>12.2f}ms\")\n",
        "\n",
        "speedup = total_time_exact / total_time_annoy\n",
        "print(f\"\\n🚀 Speedup: {speedup:.2f}x más rápido con Annoy\")\n",
        "\n",
        "# Desglose detallado\n",
        "print(\"\\n📊 Desglose detallado:\")\n",
        "print(f\"\\nMétodo Exacto:\")\n",
        "print(f\"  - Entrenamiento TF-IDF:  {train_time:.2f}s\")\n",
        "print(f\"  - Transformación:        {transform_time:.2f}s\")\n",
        "print(f\"  - Cálculo similitud:     {similarity_time:.2f}s ⚠️ O(n²)\")\n",
        "print(f\"  - Generación pares:      {pairs_time:.2f}s\")\n",
        "print(f\"  TOTAL:                   {total_time_exact:.2f}s\")\n",
        "\n",
        "print(f\"\\nMétodo Aproximado (Annoy):\")\n",
        "print(f\"  - Reducción SVD:         {svd_time:.2f}s\")\n",
        "print(f\"  - Construcción índice:   {build_time:.2f}s\")\n",
        "print(f\"  - Búsqueda vecinos:      {query_time:.2f}s ✓ O(n log n)\")\n",
        "print(f\"  TOTAL:                   {total_time_annoy:.2f}s\")"
      ],
      "metadata": {
        "colab": {
          "base_uri": "https://localhost:8080/"
        },
        "id": "wovyUMSDiiV5",
        "outputId": "74732858-e987-4481-fd51-484a61c1dbfc"
      },
      "execution_count": 20,
      "outputs": [
        {
          "output_type": "stream",
          "name": "stdout",
          "text": [
            "\n",
            "================================================================================\n",
            "COMPARACIÓN: MÉTODO EXACTO VS APROXIMADO\n",
            "================================================================================\n",
            "\n",
            "Método               Tiempo Total    Tiempo/item    \n",
            "--------------------------------------------------\n",
            "Exacto (Brute-force)        13.44s          1.34ms\n",
            "Aproximado (Annoy)           7.69s          0.77ms\n",
            "\n",
            "🚀 Speedup: 1.75x más rápido con Annoy\n",
            "\n",
            "📊 Desglose detallado:\n",
            "\n",
            "Método Exacto:\n",
            "  - Entrenamiento TF-IDF:  1.15s\n",
            "  - Transformación:        0.21s\n",
            "  - Cálculo similitud:     2.45s ⚠️ O(n²)\n",
            "  - Generación pares:      9.64s\n",
            "  TOTAL:                   13.44s\n",
            "\n",
            "Método Aproximado (Annoy):\n",
            "  - Reducción SVD:         4.89s\n",
            "  - Construcción índice:   0.66s\n",
            "  - Búsqueda vecinos:      2.14s ✓ O(n log n)\n",
            "  TOTAL:                   7.69s\n"
          ]
        }
      ]
    },
    {
      "cell_type": "markdown",
      "source": [
        "### Comparación de resultados"
      ],
      "metadata": {
        "id": "G64Egzj4i4-I"
      }
    },
    {
      "cell_type": "code",
      "source": [
        "print(\"\\n\" + \"=\" * 80)\n",
        "print(\"COMPARACIÓN DE RESULTADOS TOP 10\")\n",
        "print(\"=\" * 80)\n",
        "\n",
        "print(\"\\n--- TOP 5 MÉTODO EXACTO ---\")\n",
        "for idx, row in df_pairs.head(5).iterrows():\n",
        "    print(f\"\\n{idx + 1}. Score: {row['similarity_score']:.4f}\")\n",
        "    print(f\"   {row['title_1'][:60]}...\")\n",
        "    print(f\"   {row['title_2'][:60]}...\")\n",
        "\n",
        "print(\"\\n--- TOP 10 MÉTODO ANNOY ---\")\n",
        "for idx, row in df_pairs_annoy.head(5).iterrows():\n",
        "    print(f\"\\n{idx + 1}. Score: {row['similarity_score']:.4f}\")\n",
        "    print(f\"   {row['title_1'][:60]}...\")\n",
        "    print(f\"   {row['title_2'][:60]}...\")"
      ],
      "metadata": {
        "colab": {
          "base_uri": "https://localhost:8080/"
        },
        "id": "g-bHa05Pi7bY",
        "outputId": "31b56d1d-703f-4e5e-c9c3-cabb83f43cee"
      },
      "execution_count": 21,
      "outputs": [
        {
          "output_type": "stream",
          "name": "stdout",
          "text": [
            "\n",
            "================================================================================\n",
            "COMPARACIÓN DE RESULTADOS TOP 10\n",
            "================================================================================\n",
            "\n",
            "--- TOP 5 MÉTODO EXACTO ---\n",
            "\n",
            "1. Score: 1.0000\n",
            "   Tênis Mizuno Wave Prophecy 6 -  Ref***0000039...\n",
            "   Tênis Mizuno Wave Prophecy 6 -  Ref***0000054...\n",
            "\n",
            "2. Score: 1.0000\n",
            "   Tenis Infantil Tênis Feminino Promoção Brinde Bolsa P Não Pe...\n",
            "   Tenis Infantil Tênis Feminino Promoção Brinde Bolsa U Não Pe...\n",
            "\n",
            "3. Score: 1.0000\n",
            "   Tênis Skechers M Go Walk Evolution Ultra...\n",
            "   Tênis Skechers Go Walk Evolution Ultra...\n",
            "\n",
            "4. Score: 1.0000\n",
            "   Tênis Feminino Kolosh C1323a...\n",
            "   Tênis Feminino Kolosh Arya...\n",
            "\n",
            "5. Score: 1.0000\n",
            "   Bike Speed...\n",
            "   Bike Speed Redbull...\n",
            "\n",
            "--- TOP 10 MÉTODO ANNOY ---\n",
            "\n",
            "1. Score: 1.0000\n",
            "   Sapatênis Tênis Masculino Couro Legítimo Cano Alto Confort...\n",
            "   Sapatênis Tênis Masculino  Couro Legítimo Cano Alto Confort...\n",
            "\n",
            "2. Score: 1.0000\n",
            "   Tv Portátil Tomate Mtm-808 Led  8 Polegadas 100v/240v...\n",
            "   Tv Portátil Tomate Mtm-808 Led 8 Polegadas 100v/240v...\n",
            "\n",
            "3. Score: 1.0000\n",
            "   Tênis Infantil Slip On Calce Fácil Confortável Leve As130...\n",
            "   Tênis Infantil Slip On Calce Fácil Confortável Leve  Cb130...\n",
            "\n",
            "4. Score: 1.0000\n",
            "   Tênis Sapatênis Casual Feminina  Chiqui  7890263...\n",
            "   Tênis Sapatênis Casual Feminina  Chiqui  7890330...\n",
            "\n",
            "5. Score: 1.0000\n",
            "   Tênis Sapatênis Casual Feminina  Chiqui  7890236...\n",
            "   Tênis Sapatênis Casual Feminina  Chiqui  7890330...\n"
          ]
        }
      ]
    },
    {
      "cell_type": "markdown",
      "source": [
        "### Análisis de escalabilidad mejorado con Annoy"
      ],
      "metadata": {
        "id": "wEK9JsG9jFfI"
      }
    },
    {
      "cell_type": "code",
      "source": [
        "print(\"\\n\" + \"=\" * 80)\n",
        "print(\"ANÁLISIS DE ESCALABILIDAD CON ANNOY\")\n",
        "print(\"=\" * 80)\n",
        "\n",
        "# Proyecciones para diferentes tamaños\n",
        "print(f\"\\n📈 Proyección de tiempos para diferentes tamaños:\")\n",
        "print(f\"\\n{'N Items':<15} {'Brute-Force':<20} {'Annoy (ANN)':<20} {'Speedup':<10}\")\n",
        "print(\"-\" * 65)\n",
        "\n",
        "sizes_projection = [1000, 5000, 10000, 50000, 100000, 500000, 1000000]\n",
        "\n",
        "for size in sizes_projection:\n",
        "    # Brute-force: O(n²) para similitud\n",
        "    scale_factor_exact = (size / n) ** 2\n",
        "    time_exact = similarity_time * scale_factor_exact\n",
        "\n",
        "    # Annoy: O(n log n) para búsqueda\n",
        "    scale_factor_annoy = (size / n) * np.log2(size / n)\n",
        "    time_annoy = (svd_time + build_time + query_time) * scale_factor_annoy\n",
        "\n",
        "    speedup_proj = time_exact / time_annoy\n",
        "\n",
        "    if time_exact < 60:\n",
        "        time_exact_str = f\"{time_exact:.1f}s\"\n",
        "    elif time_exact < 3600:\n",
        "        time_exact_str = f\"{time_exact/60:.1f}min\"\n",
        "    else:\n",
        "        time_exact_str = f\"{time_exact/3600:.1f}h\"\n",
        "\n",
        "    if time_annoy < 60:\n",
        "        time_annoy_str = f\"{time_annoy:.1f}s\"\n",
        "    elif time_annoy < 3600:\n",
        "        time_annoy_str = f\"{time_annoy/60:.1f}min\"\n",
        "    else:\n",
        "        time_annoy_str = f\"{time_annoy/3600:.1f}h\"\n",
        "\n",
        "    print(f\"{size:>12,}   {time_exact_str:>18}   {time_annoy_str:>18}   {speedup_proj:>8.1f}x\")\n"
      ],
      "metadata": {
        "colab": {
          "base_uri": "https://localhost:8080/"
        },
        "id": "zUEtB8F4jdQY",
        "outputId": "581671cb-0a17-4622-cd69-c9d6c603946d"
      },
      "execution_count": 22,
      "outputs": [
        {
          "output_type": "stream",
          "name": "stdout",
          "text": [
            "\n",
            "================================================================================\n",
            "ANÁLISIS DE ESCALABILIDAD CON ANNOY\n",
            "================================================================================\n",
            "\n",
            "📈 Proyección de tiempos para diferentes tamaños:\n",
            "\n",
            "N Items         Brute-Force          Annoy (ANN)          Speedup   \n",
            "-----------------------------------------------------------------\n",
            "       1,000                 0.0s                -2.6s       -0.0x\n",
            "       5,000                 0.6s                -3.8s       -0.2x\n",
            "      10,000                 2.5s                 0.0s        infx\n",
            "      50,000               1.0min               1.5min        0.7x\n",
            "     100,000               4.1min               4.3min        1.0x\n",
            "     500,000                 1.7h              36.2min        2.8x\n",
            "   1,000,000                 6.8h                 1.4h        4.8x\n"
          ]
        },
        {
          "output_type": "stream",
          "name": "stderr",
          "text": [
            "/tmp/ipython-input-1456989804.py:21: RuntimeWarning: divide by zero encountered in scalar divide\n",
            "  speedup_proj = time_exact / time_annoy\n"
          ]
        }
      ]
    },
    {
      "cell_type": "markdown",
      "source": [
        "### Visualización de los resultados con Annoy"
      ],
      "metadata": {
        "id": "SlIC2RPId9sc"
      }
    },
    {
      "cell_type": "code",
      "source": [
        "print(\"\\n\" + \"=\" * 80)\n",
        "print(\"VISUALIZACIONES\")\n",
        "print(\"=\" * 80)\n",
        "\n",
        "# Distribución de scores de similitud\n",
        "plt.figure(figsize=(12, 5))\n",
        "\n",
        "plt.subplot(1, 2, 1)\n",
        "plt.hist(df_pairs_annoy['similarity_score'], bins=50, edgecolor='black', alpha=0.7)\n",
        "plt.xlabel('Score de Similitud')\n",
        "plt.ylabel('Frecuencia')\n",
        "plt.title('Distribución de Scores de Similitud')\n",
        "plt.grid(True, alpha=0.3)\n",
        "\n",
        "plt.subplot(1, 2, 2)\n",
        "plt.hist(df_pairs_annoy['similarity_score'], bins=50, edgecolor='black', alpha=0.7, cumulative=True)\n",
        "plt.xlabel('Score de Similitud')\n",
        "plt.ylabel('Frecuencia Acumulada')\n",
        "plt.title('Distribución Acumulada de Scores')\n",
        "plt.grid(True, alpha=0.3)\n",
        "\n",
        "plt.tight_layout()\n",
        "plt.savefig('similitud/similarity_distribution.png', dpi=150, bbox_inches='tight')\n",
        "print(\"\\n✓ Gráfico guardado: similitud/similarity_distribution.png\")\n",
        "plt.show()"
      ],
      "metadata": {
        "colab": {
          "base_uri": "https://localhost:8080/",
          "height": 611
        },
        "id": "R8ZMsfPCbLQu",
        "outputId": "c59e6c7e-8e7f-4760-8274-d533c78e865c"
      },
      "execution_count": 25,
      "outputs": [
        {
          "output_type": "stream",
          "name": "stdout",
          "text": [
            "\n",
            "================================================================================\n",
            "VISUALIZACIONES\n",
            "================================================================================\n",
            "\n",
            "✓ Gráfico guardado: similitud/similarity_distribution.png\n"
          ]
        },
        {
          "output_type": "display_data",
          "data": {
            "text/plain": [
              "<Figure size 1200x500 with 2 Axes>"
            ],
            "image/png": "[encoded data removed]"
          },
          "metadata": {}
        }
      ]
    },
    {
      "cell_type": "markdown",
      "source": [
        "### Descripción estadística de los items"
      ],
      "metadata": {
        "id": "-n4u1P-TeOG7"
      }
    },
    {
      "cell_type": "code",
      "source": [
        "# Estadísticas descriptivas\n",
        "print(\"\\n📊 Estadísticas de Similitud:\")\n",
        "print(df_pairs_annoy['similarity_score'].describe())\n",
        "\n",
        "# Matriz de similitud (muestra)\n",
        "plt.figure(figsize=(10, 8))\n",
        "sample_size = min(50, len(df_test))\n",
        "sns.heatmap(similarity_matrix[:sample_size, :sample_size],\n",
        "            cmap='YlOrRd',\n",
        "            xticklabels=False,\n",
        "            yticklabels=False,\n",
        "            cbar_kws={'label': 'Similitud'})\n",
        "plt.title(f'Matriz de Similitud (muestra de {sample_size} items)')\n",
        "plt.xlabel('Items')\n",
        "plt.ylabel('Items')\n",
        "plt.tight_layout()\n",
        "plt.savefig('similitud/similarity_matrix.png', dpi=150, bbox_inches='tight')\n",
        "print(\"✓ Gráfico guardado: similitud/similarity_matrix.png\")\n",
        "plt.show()"
      ],
      "metadata": {
        "colab": {
          "base_uri": "https://localhost:8080/",
          "height": 1000
        },
        "id": "Tc6dvN7zeHp1",
        "outputId": "8fdae193-7676-42a8-8863-39c78c7e0c54"
      },
      "execution_count": 24,
      "outputs": [
        {
          "output_type": "stream",
          "name": "stdout",
          "text": [
            "\n",
            "📊 Estadísticas de Similitud:\n",
            "count    19960.000000\n",
            "mean         0.856198\n",
            "std          0.116783\n",
            "min          0.225550\n",
            "25%          0.781684\n",
            "50%          0.875997\n",
            "75%          0.955394\n",
            "max          1.000000\n",
            "Name: similarity_score, dtype: float64\n",
            "✓ Gráfico guardado: similitud/similarity_matrix.png\n"
          ]
        },
        {
          "output_type": "display_data",
          "data": {
            "text/plain": [
              "<Figure size 1000x800 with 2 Axes>"
            ],
            "image/png": "[encoded data removed]"
          },
          "metadata": {}
        }
      ]
    },
    {
      "cell_type": "markdown",
      "source": [
        "## Conclusión\n",
        "\n",
        "En los enfoques realizados se compararon dos métodos para calcular la similitud entre títulos de productos: **Brute-force con Nearest Neighbors exacto** sobre representaciones TF-IDF y **Reducción de dimensionalidad (SVD) + Annoy** (Approximate Nearest Neighbors, ANN).\n",
        "\n",
        "Los resultados experimentales revelan un comportamiento interesante respecto a la escalabilidad:\n",
        "\n",
        "### Resultados observados:\n",
        "- **Para datasets pequeños (<10,000 items)**: El método brute-force resulta más eficiente. Con 10,000 productos, brute-force toma 2.5 segundos mientras que el overhead de SVD y construcción del índice Annoy resulta en tiempos negativos o comparables, haciendo que el método aproximado no ofrezca ventajas.\n",
        "\n",
        "- **Punto de inflexión (~50,000-100,000 items)**: En este rango ambos métodos tienen desempeño similar. Con 100,000 productos ambos toman aproximadamente 4 minutos, representando el punto donde la inversión en construcción del índice ANN comienza a compensarse.\n",
        "\n",
        "- **Para datasets grandes (>500,000 items)**: SVD + Annoy muestra clara superioridad. Con 500,000 productos, Annoy es **2.8x más rápido** (36 minutos vs 1.7 horas), y con 1 millón de productos alcanza un **speedup de 4.8x** (1.4 horas vs 6.8 horas).\n",
        "\n",
        "### Implicaciones para producción:\n",
        "\n",
        "**Para Mercado Libre con millones de items**, la solución basada en ANN (SVD + Annoy) es definitivamente la más recomendable, ya que:\n",
        "\n",
        "1. **Escalabilidad**: El tiempo crece de forma casi lineal vs cuadrática del brute-force\n",
        "2. **Viabilidad**: A escala de millones, brute-force se vuelve prohibitivo (horas vs minutos)\n",
        "3. **Eficiencia**: El speedup aumenta con el tamaño del dataset, alcanzando ~5x para 1M items\n",
        "\n",
        "Sin embargo, es importante notar que:\n",
        "- El método exacto brute-force sigue siendo preferible para **prototipos, pruebas y datasets pequeños (<10K)** donde su simplicidad y precisión absoluta superan al overhead de ANN\n",
        "- Para **colecciones medianas (10K-100K)**, ambos métodos son viables, siendo la elección dependiente de otros factores como frecuencia de actualización y requisitos de precisión\n",
        "- Para **producción a gran escala (>500K items)**, el enfoque aproximado con Annoy, FAISS o HNSW es indispensable\n",
        "\n",
        "En conclusión, la estrategia óptima es **híbrida**: usar brute-force para desarrollo y validación con muestras pequeñas, y migrar a ANN para el sistema productivo con el catálogo completo de productos."
      ],
      "metadata": {
        "id": "mv_cdWCmlwJX"
      }
    }
  ]
}